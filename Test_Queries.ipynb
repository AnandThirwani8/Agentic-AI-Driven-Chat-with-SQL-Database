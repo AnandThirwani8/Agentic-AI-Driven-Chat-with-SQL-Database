{
 "cells": [
  {
   "cell_type": "markdown",
   "id": "ec5b89bf-6005-44e2-8a4d-0fbf2efae883",
   "metadata": {},
   "source": [
    "# Imports"
   ]
  },
  {
   "cell_type": "code",
   "execution_count": 1,
   "id": "1ff4f614-d921-45ff-b34d-240bbaa4fda7",
   "metadata": {},
   "outputs": [],
   "source": [
    "from utils import *"
   ]
  },
  {
   "cell_type": "code",
   "execution_count": 2,
   "id": "6ee20457-0e01-4d70-b2f2-7c4673e7aeac",
   "metadata": {},
   "outputs": [
    {
     "data": {
      "text/plain": [
       "True"
      ]
     },
     "execution_count": 2,
     "metadata": {},
     "output_type": "execute_result"
    }
   ],
   "source": [
    "import os\n",
    "from dotenv import load_dotenv\n",
    "load_dotenv()"
   ]
  },
  {
   "cell_type": "markdown",
   "id": "251abcee-1699-4460-9bb9-78f68d05c79d",
   "metadata": {},
   "source": [
    "# Define Agent"
   ]
  },
  {
   "cell_type": "code",
   "execution_count": 3,
   "id": "2fc340cc-65a6-4602-a7db-e885fd417daa",
   "metadata": {},
   "outputs": [],
   "source": [
    "csv_path = \"data/retail_sales_dataset.csv\"\n",
    "engine = setup_database(csv_path, 'retail_sales')\n",
    "agent_executor, query_logger = setup_agent(engine, os.environ[\"GOOGLE_API_KEY\"])"
   ]
  },
  {
   "cell_type": "markdown",
   "id": "7afafa60-acc1-4679-a7bb-27841e41e5de",
   "metadata": {},
   "source": [
    "# Questions"
   ]
  },
  {
   "cell_type": "code",
   "execution_count": null,
   "id": "3f0ae4d6-3173-4e59-840e-c1b5b4d7662b",
   "metadata": {},
   "outputs": [],
   "source": [
    "question = \"show the top 3 rows of the data\"\n",
    "answer, sql_query = get_result(question, agent_executor, query_logger)"
   ]
  },
  {
   "cell_type": "code",
   "execution_count": null,
   "id": "89f9baee-b513-4fa5-b0b6-54a1e960f471",
   "metadata": {},
   "outputs": [],
   "source": [
    "print(\"Answer:\", answer)\n",
    "pprint_sql(sql_query)"
   ]
  },
  {
   "cell_type": "code",
   "execution_count": 4,
   "id": "34bc617d-f36a-4f49-8add-1e6d9c645a7a",
   "metadata": {},
   "outputs": [
    {
     "name": "stdout",
     "output_type": "stream",
     "text": [
      "\n",
      "\n",
      "\u001b[1m> Entering new SQL Agent Executor chain...\u001b[0m\n",
      "\u001b[32;1m\u001b[1;3mAction: sql_db_list_tables\n",
      "\u001b[32;1m\u001b[1;3mI should look at the schema of the retail_sales table to see what columns are available.\n",
      "Action: sql_db_schema\n",
      "Action Input: retail_sales\u001b[0m\u001b[33;1m\u001b[1;3m\n",
      "CREATE TABLE retail_sales (\n",
      "\t\"Transaction ID\" BIGINT, \n",
      "\t\"Date\" TEXT, \n",
      "\t\"Customer ID\" TEXT, \n",
      "\t\"Gender\" TEXT, \n",
      "\t\"Age\" BIGINT, \n",
      "\t\"Product Category\" TEXT, \n",
      "\t\"Quantity\" BIGINT, \n",
      "\t\"Price per Unit\" BIGINT, \n",
      "\t\"Total Amount\" BIGINT\n",
      ")\n",
      "\n",
      "/*\n",
      "3 rows from retail_sales table:\n",
      "Transaction ID\tDate\tCustomer ID\tGender\tAge\tProduct Category\tQuantity\tPrice per Unit\tTotal Amount\n",
      "1\t2023-11-24\tCUST001\tMale\t34\tBeauty\t3\t50\t150\n",
      "2\t2023-02-27\tCUST002\tFemale\t26\tClothing\t2\t500\t1000\n",
      "3\t2023-01-13\tCUST003\tMale\t50\tElectronics\t1\t30\t30\n",
      "\u001b[32;1m\u001b[1;3mI should query the retail_sales table to find the top 5 customers who have bought the highest quantity. I will group by customer ID and sum the quantity, then order by the sum of quantity in descending order and limit to 5.\n",
      "Action: sql_db_query_checker\n",
      "\u001b[36;1m\u001b[1;3m```sqlT \"Customer ID\", SUM(Quantity) AS TotalQuantity FROM retail_sales GROUP BY \"Customer ID\" ORDER BY TotalQuantity DESC LIMIT 5\u001b[0m\n",
      "SELECT \"Customer ID\", SUM(Quantity) AS TotalQuantity FROM retail_sales GROUP BY \"Customer ID\" ORDER BY TotalQuantity DESC LIMIT 5\n",
      "\u001b[32;1m\u001b[1;3mThe query is correct. I will now execute it.\n",
      "Action: sql_db_query\n",
      "\u001b[32;1m\u001b[1;3mI now know the final answerQuantity) AS TotalQuantity FROM retail_sales GROUP BY \"Customer ID\" ORDER BY TotalQuantity DESC LIMIT 5\u001b[0m\u001b[36;1m\u001b[1;3m[('CUST998', 4), ('CUST975', 4), ('CUST972', 4), ('CUST971', 4), ('CUST970', 4)]\u001b[0m\n",
      "Final Answer: The top 5 customers who have bought the highest quantity are CUST998, CUST975, CUST972, CUST971, and CUST970, all with a total quantity of 4.\u001b[0m\n",
      "\n",
      "\u001b[1m> Finished chain.\u001b[0m\n"
     ]
    }
   ],
   "source": [
    "question = \"Which are the top 5 customers who have bought the highest quantity ?\"\n",
    "answer, sql_query = get_result(question, agent_executor, query_logger)"
   ]
  },
  {
   "cell_type": "code",
   "execution_count": 5,
   "id": "20170707-36ad-4c66-a19f-94c433e65b4a",
   "metadata": {},
   "outputs": [
    {
     "name": "stdout",
     "output_type": "stream",
     "text": [
      "Answer: The top 5 customers who have bought the highest quantity are CUST998, CUST975, CUST972, CUST971, and CUST970, all with a total quantity of 4.\n"
     ]
    },
    {
     "data": {
      "text/html": [
       "<pre style=\"white-space:pre;overflow-x:auto;line-height:normal;font-family:Menlo,'DejaVu Sans Mono',consolas,'Courier New',monospace\"><span style=\"color: #e3e3dd; text-decoration-color: #e3e3dd; background-color: #272822; font-weight: bold\">  </span><span style=\"color: #656660; text-decoration-color: #656660; background-color: #272822\">1 </span><span style=\"color: #66d9ef; text-decoration-color: #66d9ef; background-color: #272822\">SELECT</span><span style=\"color: #f8f8f2; text-decoration-color: #f8f8f2; background-color: #272822\"> </span><span style=\"color: #e6db74; text-decoration-color: #e6db74; background-color: #272822\">\"Customer ID\"</span><span style=\"color: #f8f8f2; text-decoration-color: #f8f8f2; background-color: #272822\">,</span><span style=\"background-color: #272822\">                                                                                          </span>\n",
       "<span style=\"color: #e3e3dd; text-decoration-color: #e3e3dd; background-color: #272822; font-weight: bold\">  </span><span style=\"color: #656660; text-decoration-color: #656660; background-color: #272822\">2 </span><span style=\"color: #f8f8f2; text-decoration-color: #f8f8f2; background-color: #272822\">       </span><span style=\"color: #66d9ef; text-decoration-color: #66d9ef; background-color: #272822\">SUM</span><span style=\"color: #f8f8f2; text-decoration-color: #f8f8f2; background-color: #272822\">(Quantity) </span><span style=\"color: #66d9ef; text-decoration-color: #66d9ef; background-color: #272822\">AS</span><span style=\"color: #f8f8f2; text-decoration-color: #f8f8f2; background-color: #272822\"> TotalQuantity</span><span style=\"background-color: #272822\">                                                                          </span>\n",
       "<span style=\"color: #e3e3dd; text-decoration-color: #e3e3dd; background-color: #272822; font-weight: bold\">  </span><span style=\"color: #656660; text-decoration-color: #656660; background-color: #272822\">3 </span><span style=\"color: #66d9ef; text-decoration-color: #66d9ef; background-color: #272822\">FROM</span><span style=\"color: #f8f8f2; text-decoration-color: #f8f8f2; background-color: #272822\"> retail_sales</span><span style=\"background-color: #272822\">                                                                                              </span>\n",
       "<span style=\"color: #e3e3dd; text-decoration-color: #e3e3dd; background-color: #272822; font-weight: bold\">  </span><span style=\"color: #656660; text-decoration-color: #656660; background-color: #272822\">4 </span><span style=\"color: #66d9ef; text-decoration-color: #66d9ef; background-color: #272822\">GROUP</span><span style=\"color: #f8f8f2; text-decoration-color: #f8f8f2; background-color: #272822\"> </span><span style=\"color: #66d9ef; text-decoration-color: #66d9ef; background-color: #272822\">BY</span><span style=\"color: #f8f8f2; text-decoration-color: #f8f8f2; background-color: #272822\"> </span><span style=\"color: #e6db74; text-decoration-color: #e6db74; background-color: #272822\">\"Customer ID\"</span><span style=\"background-color: #272822\">                                                                                         </span>\n",
       "<span style=\"color: #e3e3dd; text-decoration-color: #e3e3dd; background-color: #272822; font-weight: bold\">  </span><span style=\"color: #656660; text-decoration-color: #656660; background-color: #272822\">5 </span><span style=\"color: #66d9ef; text-decoration-color: #66d9ef; background-color: #272822\">ORDER</span><span style=\"color: #f8f8f2; text-decoration-color: #f8f8f2; background-color: #272822\"> </span><span style=\"color: #66d9ef; text-decoration-color: #66d9ef; background-color: #272822\">BY</span><span style=\"color: #f8f8f2; text-decoration-color: #f8f8f2; background-color: #272822\"> TotalQuantity </span><span style=\"color: #66d9ef; text-decoration-color: #66d9ef; background-color: #272822\">DESC</span><span style=\"background-color: #272822\">                                                                                    </span>\n",
       "<span style=\"color: #e3e3dd; text-decoration-color: #e3e3dd; background-color: #272822; font-weight: bold\">  </span><span style=\"color: #656660; text-decoration-color: #656660; background-color: #272822\">6 </span><span style=\"color: #66d9ef; text-decoration-color: #66d9ef; background-color: #272822\">LIMIT</span><span style=\"color: #f8f8f2; text-decoration-color: #f8f8f2; background-color: #272822\"> </span><span style=\"color: #ae81ff; text-decoration-color: #ae81ff; background-color: #272822\">5</span><span style=\"background-color: #272822\">                                                                                                        </span>\n",
       "</pre>\n"
      ],
      "text/plain": [
       "\u001b[1;38;2;227;227;221;48;2;39;40;34m  \u001b[0m\u001b[38;2;101;102;96;48;2;39;40;34m1 \u001b[0m\u001b[38;2;102;217;239;48;2;39;40;34mSELECT\u001b[0m\u001b[38;2;248;248;242;48;2;39;40;34m \u001b[0m\u001b[38;2;230;219;116;48;2;39;40;34m\"Customer ID\"\u001b[0m\u001b[38;2;248;248;242;48;2;39;40;34m,\u001b[0m\u001b[48;2;39;40;34m                                                                                          \u001b[0m\n",
       "\u001b[1;38;2;227;227;221;48;2;39;40;34m  \u001b[0m\u001b[38;2;101;102;96;48;2;39;40;34m2 \u001b[0m\u001b[38;2;248;248;242;48;2;39;40;34m       \u001b[0m\u001b[38;2;102;217;239;48;2;39;40;34mSUM\u001b[0m\u001b[38;2;248;248;242;48;2;39;40;34m(\u001b[0m\u001b[38;2;248;248;242;48;2;39;40;34mQuantity\u001b[0m\u001b[38;2;248;248;242;48;2;39;40;34m)\u001b[0m\u001b[38;2;248;248;242;48;2;39;40;34m \u001b[0m\u001b[38;2;102;217;239;48;2;39;40;34mAS\u001b[0m\u001b[38;2;248;248;242;48;2;39;40;34m \u001b[0m\u001b[38;2;248;248;242;48;2;39;40;34mTotalQuantity\u001b[0m\u001b[48;2;39;40;34m                                                                          \u001b[0m\n",
       "\u001b[1;38;2;227;227;221;48;2;39;40;34m  \u001b[0m\u001b[38;2;101;102;96;48;2;39;40;34m3 \u001b[0m\u001b[38;2;102;217;239;48;2;39;40;34mFROM\u001b[0m\u001b[38;2;248;248;242;48;2;39;40;34m \u001b[0m\u001b[38;2;248;248;242;48;2;39;40;34mretail_sales\u001b[0m\u001b[48;2;39;40;34m                                                                                              \u001b[0m\n",
       "\u001b[1;38;2;227;227;221;48;2;39;40;34m  \u001b[0m\u001b[38;2;101;102;96;48;2;39;40;34m4 \u001b[0m\u001b[38;2;102;217;239;48;2;39;40;34mGROUP\u001b[0m\u001b[38;2;248;248;242;48;2;39;40;34m \u001b[0m\u001b[38;2;102;217;239;48;2;39;40;34mBY\u001b[0m\u001b[38;2;248;248;242;48;2;39;40;34m \u001b[0m\u001b[38;2;230;219;116;48;2;39;40;34m\"Customer ID\"\u001b[0m\u001b[48;2;39;40;34m                                                                                         \u001b[0m\n",
       "\u001b[1;38;2;227;227;221;48;2;39;40;34m  \u001b[0m\u001b[38;2;101;102;96;48;2;39;40;34m5 \u001b[0m\u001b[38;2;102;217;239;48;2;39;40;34mORDER\u001b[0m\u001b[38;2;248;248;242;48;2;39;40;34m \u001b[0m\u001b[38;2;102;217;239;48;2;39;40;34mBY\u001b[0m\u001b[38;2;248;248;242;48;2;39;40;34m \u001b[0m\u001b[38;2;248;248;242;48;2;39;40;34mTotalQuantity\u001b[0m\u001b[38;2;248;248;242;48;2;39;40;34m \u001b[0m\u001b[38;2;102;217;239;48;2;39;40;34mDESC\u001b[0m\u001b[48;2;39;40;34m                                                                                    \u001b[0m\n",
       "\u001b[1;38;2;227;227;221;48;2;39;40;34m  \u001b[0m\u001b[38;2;101;102;96;48;2;39;40;34m6 \u001b[0m\u001b[38;2;102;217;239;48;2;39;40;34mLIMIT\u001b[0m\u001b[38;2;248;248;242;48;2;39;40;34m \u001b[0m\u001b[38;2;174;129;255;48;2;39;40;34m5\u001b[0m\u001b[48;2;39;40;34m                                                                                                        \u001b[0m\n"
      ]
     },
     "metadata": {},
     "output_type": "display_data"
    }
   ],
   "source": [
    "print(\"Answer:\", answer)\n",
    "pprint_sql(sql_query)"
   ]
  },
  {
   "cell_type": "code",
   "execution_count": null,
   "id": "9176f699-8864-4abe-9bbd-6652449ad29c",
   "metadata": {
    "scrolled": true
   },
   "outputs": [],
   "source": [
    "question = \"Which is the highest selling product category ?\"\n",
    "answer, sql_query = get_result(question, agent_executor, query_logger)"
   ]
  },
  {
   "cell_type": "code",
   "execution_count": null,
   "id": "b847da85-33cd-4766-bf89-518fc79b79b1",
   "metadata": {},
   "outputs": [],
   "source": [
    "print(\"Answer:\", answer)\n",
    "pprint_sql(sql_query)"
   ]
  },
  {
   "cell_type": "code",
   "execution_count": null,
   "id": "eeff44ea-b25e-4f0f-9ed8-b8c65c3514db",
   "metadata": {},
   "outputs": [],
   "source": [
    "question = \"How many customers buy only from a single product category ?\"\n",
    "answer, sql_query = get_result(question, agent_executor, query_logger)"
   ]
  },
  {
   "cell_type": "code",
   "execution_count": null,
   "id": "33ce71c9-1682-4690-89c6-0469a83c01cd",
   "metadata": {},
   "outputs": [],
   "source": [
    "print(\"Answer:\", answer)\n",
    "pprint_sql(sql_query)"
   ]
  },
  {
   "cell_type": "code",
   "execution_count": null,
   "id": "c143f546-702d-42be-b121-29d709d015d8",
   "metadata": {},
   "outputs": [],
   "source": [
    "# !pip install streamlit"
   ]
  },
  {
   "cell_type": "code",
   "execution_count": null,
   "id": "49f3748b-224e-40e4-8581-50b9e906f084",
   "metadata": {},
   "outputs": [],
   "source": []
  },
  {
   "cell_type": "code",
   "execution_count": null,
   "id": "7c0e7ca0-2671-476d-afce-a43a3f70805e",
   "metadata": {},
   "outputs": [],
   "source": [
    "import tempfile"
   ]
  },
  {
   "cell_type": "code",
   "execution_count": null,
   "id": "c6baaee0-cd8f-4866-8856-07957f937907",
   "metadata": {},
   "outputs": [],
   "source": []
  }
 ],
 "metadata": {
  "kernelspec": {
   "display_name": "Python 3 (ipykernel)",
   "language": "python",
   "name": "python3"
  },
  "language_info": {
   "codemirror_mode": {
    "name": "ipython",
    "version": 3
   },
   "file_extension": ".py",
   "mimetype": "text/x-python",
   "name": "python",
   "nbconvert_exporter": "python",
   "pygments_lexer": "ipython3",
   "version": "3.9.21"
  }
 },
 "nbformat": 4,
 "nbformat_minor": 5
}
